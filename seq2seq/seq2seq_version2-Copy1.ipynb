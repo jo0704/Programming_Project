{
 "cells": [
  {
   "cell_type": "markdown",
   "id": "494438cf",
   "metadata": {},
   "source": [
    "# Historical Text Normalization: character-level sequence-to-sequence model (seq2seq)\n"
   ]
  },
  {
   "cell_type": "markdown",
   "id": "6c538647",
   "metadata": {},
   "source": [
    "based on: https://github.com/keras-team/keras-io/blob/master/examples/nlp/lstm_seq2seq.py"
   ]
  },
  {
   "cell_type": "markdown",
   "id": "e2f2c891",
   "metadata": {},
   "source": [
    "In order to implement this sequence-to-sequence model, we need:\n",
    "* An encoder LSTM. Its input: Historical word form (e.g. \"meynteigne\"). The encoder produces a vector representation of the input, which is then fed into:\n",
    "* A decoder LSTM. Produces the normalized word form (e.g. \"maintain\"). It decodes the given vector into the desired output. "
   ]
  },
  {
   "attachments": {
    "encoder_decoder_architecture.png": {
     "image/png": "[encoded data removed]"
    }
   },
   "cell_type": "markdown",
   "id": "b9dbe3f3",
   "metadata": {},
   "source": [
    "![encoder_decoder_architecture.png](attachment:encoder_decoder_architecture.png)"
   ]
  },
  {
   "cell_type": "markdown",
   "id": "7593e0d0",
   "metadata": {},
   "source": [
    "Image: Basic encoder-decoder architecture for normalization (Figure 6.1, Bollmann 2018, p.85)"
   ]
  },
  {
   "cell_type": "markdown",
   "id": "cd3c0788",
   "metadata": {},
   "source": [
    "## Setup: import modules"
   ]
  },
  {
   "cell_type": "code",
   "execution_count": 1,
   "id": "5f928589",
   "metadata": {},
   "outputs": [],
   "source": [
    "import numpy as np\n",
    "import tensorflow as tf #if there are errors: pip3 install tensorflow on anaconda prompt\n",
    "from tensorflow import keras\n",
    "from keras.preprocessing.text import Tokenizer\n",
    "from keras.preprocessing.sequence import pad_sequences\n",
    "import os\n",
    "import re\n",
    "from keras.layers import LSTM\n",
    "from keras.models import Model\n",
    "from tensorflow.keras.utils import plot_model\n",
    "from sklearn.model_selection import train_test_split\n",
    "from sklearn import metrics\n",
    "from matplotlib import pyplot"
   ]
  },
  {
   "cell_type": "markdown",
   "id": "f18a5df5",
   "metadata": {},
   "source": [
    "Here, we set the batch size for training, the number of epochs for training and latent dimensionality of the encoding space:"
   ]
  },
  {
   "cell_type": "code",
   "execution_count": 2,
   "id": "bb48b69a",
   "metadata": {},
   "outputs": [],
   "source": [
    "batch_size = 64 \n",
    "epochs = 10 \n",
    "latent_dim = 256"
   ]
  },
  {
   "cell_type": "markdown",
   "id": "23cd89f8",
   "metadata": {},
   "source": [
    "## Downloading the data: ICAMET corpus\n",
    "\n",
    "Note: the ICAMET Corpus is already divided into **dev**, **test** and **train** sets\n",
    "<p> To use train_test_split from sklearn.model_selection, we will use one input and one output file, that have been concatenated from the given files </p>\n",
    "<p> The files of the ICAMET Corpus have been converted to text files and they should be stored locally in the same path as the present jupyter notebook </p>\n"
   ]
  },
  {
   "cell_type": "code",
   "execution_count": 7,
   "id": "66996d3b",
   "metadata": {},
   "outputs": [],
   "source": [
    "# notebook_path =os.path.abspath('seq2seq_version2.ipynb')\n",
    "# dev_en = os.path.join(os.path.dirname(notebook_path),'icamet_en-hs_dev_en.txt') \n",
    "# dev_hs = os.path.join(os.path.dirname(notebook_path),'icamet_en-hs_dev_hs.txt')\n",
    "\n",
    "# train_hs = os.path.join(os.path.dirname(notebook_path),'icamet_en-hs_train_hs.txt')\n",
    "# train_en = os.path.join(os.path.dirname(notebook_path),'icamet_en-hs_train_en.txt') \n",
    "\n",
    "# test_hs = os.path.join(os.path.dirname(notebook_path),'icamet_en-hs_test_hs.txt')\n",
    "# test_en = os.path.join(os.path.dirname(notebook_path),'icamet_en-hs_test_en.txt')"
   ]
  },
  {
   "cell_type": "code",
   "execution_count": 3,
   "id": "6ec83345",
   "metadata": {},
   "outputs": [],
   "source": [
    "notebook_path =os.path.abspath('seq2seq_version2.ipynb')\n",
    "read_input_hs = os.path.join(os.path.dirname(notebook_path),'concatenated_input.txt')\n",
    "read_output_en = os.path.join(os.path.dirname(notebook_path),'concatenated_output.txt')"
   ]
  },
  {
   "cell_type": "markdown",
   "id": "8165f2ec",
   "metadata": {},
   "source": [
    "Next step: read the data and save them in variables. Each sentence in the text is separated by an empty line. We add start of string and end of string token for the normalized version of the sequences"
   ]
  },
  {
   "cell_type": "markdown",
   "id": "e0578935",
   "metadata": {},
   "source": [
    "The output of the decoder will be the normalized word form as a sequence of characters with end of string symbol, so that the decoder knows when to stop generating more characters (= when to stop prediciton) and it can produce sequences of arbitrary length. "
   ]
  },
  {
   "cell_type": "code",
   "execution_count": 4,
   "id": "805401b1",
   "metadata": {},
   "outputs": [
    {
     "name": "stdout",
     "output_type": "stream",
     "text": [
      "182813\n",
      "182813\n",
      "<sos> wisest <eos>\n",
      "wysest\n",
      "['To', 'the', 'moost', 'noble', '&', 'Worthiest', 'Lordes', 'moost', 'ryghtful', '&']\n",
      "['<sos> To <eos>', '<sos> the <eos>', '<sos> most <eos>', '<sos> noble <eos>', '<sos> and <eos>', '<sos> worthiest <eos>', '<sos> Lords <eos>', '<sos> most <eos>', '<sos> rightful <eos>', '<sos> and <eos>']\n"
     ]
    }
   ],
   "source": [
    "with open(read_input_hs, encoding='utf8') as hs:\n",
    "    input_hs = hs.read().strip().split('\\n')\n",
    "    input_hs = [x for x in input_hs if x] #get rid of empty strings in list\n",
    "\n",
    "with open(read_output_en, encoding='utf8') as en:\n",
    "    target_en = en.read().strip().split('\\n')\n",
    "    target_en = [x for x in target_en if x]\n",
    "    output_en = ['<sos> ' + item +' <eos>' for item in target_en] #start of string and end of string characters\n",
    "\n",
    "print(len(input_hs))\n",
    "print(len(output_en))\n",
    "print(output_en[10])\n",
    "print(input_hs[10])\n",
    "print(input_hs[:10])\n",
    "print(output_en[:10])"
   ]
  },
  {
   "cell_type": "markdown",
   "id": "31f089fc",
   "metadata": {},
   "source": [
    "**How does the data look like?** One word per line, without context. The lists are now split into words"
   ]
  },
  {
   "cell_type": "markdown",
   "id": "06ac52a3",
   "metadata": {},
   "source": [
    "## preprocessing the data: lowercasing and punctuation removal "
   ]
  },
  {
   "cell_type": "markdown",
   "id": "21292de5",
   "metadata": {},
   "source": [
    "* **Punctuation:** removing punctuation means removing noise (=cleaning the data). Thus, should we remove punctuation? <p> In our Historical English texts, we find many instances where \"&\" is present and translated into Modern English \"and\". </p> \n",
    "<p> Also, there are abbrevations such as \"M.\" where we can't get rid of the final dot. </p>\n",
    "<p> - the hyphen is an important punctuation sign that appears often in Historical English, as it is part of the original orthography </p>\n",
    "<p> Based on these observations, we will remove all other punctuation signs </p>"
   ]
  },
  {
   "cell_type": "markdown",
   "id": "56175d92",
   "metadata": {},
   "source": [
    "* **Lowercasing:** Lowercasing is an important pre-processing step, as we have capitalization at the beginning of the sentence and in particular NE (as in proper nouns)-> for the sake of simplicity\n",
    "<p> the lower() method turns all characters into lower case </p>"
   ]
  },
  {
   "cell_type": "code",
   "execution_count": 5,
   "id": "d9180795",
   "metadata": {},
   "outputs": [
    {
     "name": "stdout",
     "output_type": "stream",
     "text": [
      "['to', 'the', 'moost', 'noble', '&', 'worthiest', 'lordes', 'moost', 'ryghtful', '&']\n",
      "['<sos> to <eos>', '<sos> the <eos>', '<sos> most <eos>', '<sos> noble <eos>', '<sos> and <eos>', '<sos> worthiest <eos>', '<sos> lords <eos>', '<sos> most <eos>', '<sos> rightful <eos>', '<sos> and <eos>']\n"
     ]
    }
   ],
   "source": [
    "#remove punctuation\n",
    "def clean_data(txt):\n",
    "    filtered_words = []\n",
    "    for i in txt:\n",
    "        x=re.sub(r\"[?!\\/,\\\\(@\\[){}%°~^\\]+£=#$\\*\\)\\\"^]\",\"\",i)\n",
    "        filtered_words.append(x)\n",
    "    return filtered_words\n",
    "\n",
    "in_hs = clean_data(input_hs)\n",
    "out_en = clean_data(output_en)\n",
    "\n",
    "#lowercasing\n",
    "in_hs = [in_hs[i].lower() for i in range(len(in_hs))]\n",
    "out_en = [out_en[i].lower() for i in range(len(out_en))]\n",
    "\n",
    "print(in_hs[:10])\n",
    "print(out_en[:10])"
   ]
  },
  {
   "cell_type": "markdown",
   "id": "423ef58a",
   "metadata": {},
   "source": [
    "**Now, let's split the words into characters. We are interested in finding out unique characters of the input and output data: set() method**"
   ]
  },
  {
   "cell_type": "code",
   "execution_count": 6,
   "id": "433d072a",
   "metadata": {},
   "outputs": [],
   "source": [
    "input_texts = []\n",
    "target_texts= []\n",
    "\n",
    "input_char = set()\n",
    "target_char = set()\n",
    "for line in in_hs:\n",
    "    input_texts.append(in_hs)\n",
    "    for char in line:\n",
    "        input_char.add(char)\n",
    "\n",
    "for line in out_en:  \n",
    "    target_texts.append(out_en)\n",
    "    for char in line:\n",
    "        target_char.add(char)"
   ]
  },
  {
   "cell_type": "code",
   "execution_count": 7,
   "id": "e791f458",
   "metadata": {},
   "outputs": [
    {
     "name": "stdout",
     "output_type": "stream",
     "text": [
      "182813\n"
     ]
    }
   ],
   "source": [
    "print(len(input_texts))"
   ]
  },
  {
   "cell_type": "code",
   "execution_count": 8,
   "id": "f187c233",
   "metadata": {},
   "outputs": [
    {
     "name": "stdout",
     "output_type": "stream",
     "text": [
      "{'6', '§', 's', '-', '9', '‘', '‾', 'þ', 'f', '\\x15', 'é', '5', '\\uf06d', 'g', \"'\", 'm', 'h', 'd', '7', 't', '‚', 'w', 'i', '4', '…', 'n', 'à', '`', 'c', '’', '3', 'l', ' ', 'y', '—', 'r', 'è', '8', 'k', '&', 'x', 'q', 'z', '1', 'ò', '.', 'ù', '“', ';', 'p', 'v', ':', 'b', '–', 'ō', '0', 'e', 'u', 'a', 'j', 'æ', 'õ', '•', 'o', '2'}\n"
     ]
    }
   ],
   "source": [
    "print(input_char)"
   ]
  },
  {
   "cell_type": "code",
   "execution_count": 9,
   "id": "387f3a9c",
   "metadata": {},
   "outputs": [
    {
     "name": "stdout",
     "output_type": "stream",
     "text": [
      "['\\x15', ' ', '&', \"'\", '-', '.', '0', '1', '2', '3']\n",
      "['\\x15', ' ', '&', \"'\", '-', '.', '0', '1', '2', '3']\n"
     ]
    }
   ],
   "source": [
    "input_char = sorted(list(input_char))\n",
    "target_char = sorted(list(target_char))\n",
    "print(input_char[:10])\n",
    "print(target_char[:10])"
   ]
  },
  {
   "cell_type": "code",
   "execution_count": 10,
   "id": "6b5000f1",
   "metadata": {},
   "outputs": [
    {
     "name": "stdout",
     "output_type": "stream",
     "text": [
      "Number of unique input tokens: 65\n",
      "Number of unique output tokens: 62\n",
      "max sequence length in input train: 19\n",
      "max sequence length in target train: 31\n",
      "num input train: 182813\n",
      "num output train: 182813\n"
     ]
    }
   ],
   "source": [
    "num_encoder_tokens = len(input_char)\n",
    "num_decoder_tokens = len(target_char)\n",
    "\n",
    "print(\"Number of unique input tokens:\", num_encoder_tokens)\n",
    "print(\"Number of unique output tokens:\", num_decoder_tokens)\n",
    "\n",
    "#let's see how long the longest sequences are\n",
    "max_encoder_seq_length = max([len(item) for item in in_hs])\n",
    "max_decoder_seq_length = max([len(item) for item in out_en])\n",
    "\n",
    "print(\"max sequence length in input train: \" + str(max_encoder_seq_length))\n",
    "print(\"max sequence length in target train: \" + str(max_decoder_seq_length))\n",
    "\n",
    "#print len\n",
    "print(\"num input train:\", len(input_hs))\n",
    "print(\"num output train:\", len(output_en))"
   ]
  },
  {
   "cell_type": "code",
   "execution_count": 11,
   "id": "aca3cc3b",
   "metadata": {},
   "outputs": [],
   "source": [
    "#indexing\n",
    "input_token_index = dict([(char, i) for i, char in enumerate(input_char)])\n",
    "target_token_index = dict([(char, i) for i, char in enumerate(target_char)])"
   ]
  },
  {
   "cell_type": "code",
   "execution_count": 12,
   "id": "0e51766b",
   "metadata": {},
   "outputs": [
    {
     "data": {
      "text/plain": [
       "'4'"
      ]
     },
     "execution_count": 12,
     "metadata": {},
     "output_type": "execute_result"
    }
   ],
   "source": [
    "list(input_token_index.keys())[list(input_token_index.values()).index(10)] #search for a random index in dict"
   ]
  },
  {
   "cell_type": "code",
   "execution_count": 13,
   "id": "51506a3e",
   "metadata": {},
   "outputs": [
    {
     "name": "stdout",
     "output_type": "stream",
     "text": [
      "{'\\x15': 0, ' ': 1, '&': 2, \"'\": 3, '-': 4, '.': 5, '0': 6, '1': 7, '2': 8, '3': 9, '4': 10, '5': 11, '6': 12, '7': 13, '8': 14, '9': 15, ':': 16, ';': 17, '`': 18, 'a': 19, 'b': 20, 'c': 21, 'd': 22, 'e': 23, 'f': 24, 'g': 25, 'h': 26, 'i': 27, 'j': 28, 'k': 29, 'l': 30, 'm': 31, 'n': 32, 'o': 33, 'p': 34, 'q': 35, 'r': 36, 's': 37, 't': 38, 'u': 39, 'v': 40, 'w': 41, 'x': 42, 'y': 43, 'z': 44, '§': 45, 'à': 46, 'æ': 47, 'è': 48, 'é': 49, 'ò': 50, 'õ': 51, 'ù': 52, 'þ': 53, 'ō': 54, '–': 55, '—': 56, '‘': 57, '’': 58, '‚': 59, '“': 60, '•': 61, '…': 62, '‾': 63, '\\uf06d': 64}\n"
     ]
    }
   ],
   "source": [
    "print(input_token_index)"
   ]
  },
  {
   "cell_type": "code",
   "execution_count": 14,
   "id": "c4d7ced3",
   "metadata": {},
   "outputs": [
    {
     "name": "stdout",
     "output_type": "stream",
     "text": [
      "{'\\x15': 0, ' ': 1, '&': 2, \"'\": 3, '-': 4, '.': 5, '0': 6, '1': 7, '2': 8, '3': 9, '4': 10, '5': 11, '6': 12, '7': 13, '8': 14, '9': 15, ':': 16, ';': 17, '<': 18, '>': 19, '`': 20, 'a': 21, 'b': 22, 'c': 23, 'd': 24, 'e': 25, 'f': 26, 'g': 27, 'h': 28, 'i': 29, 'j': 30, 'k': 31, 'l': 32, 'm': 33, 'n': 34, 'o': 35, 'p': 36, 'q': 37, 'r': 38, 's': 39, 't': 40, 'u': 41, 'v': 42, 'w': 43, 'x': 44, 'y': 45, 'z': 46, '´': 47, 'à': 48, 'æ': 49, 'è': 50, 'é': 51, 'ò': 52, 'ù': 53, 'þ': 54, '–': 55, '—': 56, '‘': 57, '’': 58, '“': 59, '•': 60, '…': 61}\n"
     ]
    }
   ],
   "source": [
    "print(target_token_index)"
   ]
  },
  {
   "cell_type": "markdown",
   "id": "006996cc",
   "metadata": {},
   "source": [
    "We need 3 Numpy arrays: \n",
    "1. encoder_input_data of shape (len(in_hs), max_encoder_seq_length, num_encoder_characters): vectorization of the Historical English tokens, \n",
    "2. decoder_input_data of shape (len(in_hs, max_decoder_seq_length, num_decoder_characters): vectorization of the normalized English tokens, and \n",
    "3. decoder_target_data: the same as decoder_input_data but offset by one timestep because there is no start tag in target_data"
   ]
  },
  {
   "cell_type": "markdown",
   "id": "34e76895",
   "metadata": {},
   "source": [
    "The idea is the following:\n",
    "* First we encode the input sequence into vectors\n",
    "* we start with the target sequence with just the start of sequence character\n",
    "* then we need to feed the vectors and the target sequence with the start of sequence character to the decoder to produce predictions for the next character\n",
    "* then we sample the next character using these predictions with argmax\n",
    "* append the sampled character to the target sequence\n",
    "* repeat until we generate end of sequence character or character limit"
   ]
  },
  {
   "cell_type": "code",
   "execution_count": 15,
   "id": "816c3044",
   "metadata": {},
   "outputs": [
    {
     "name": "stdout",
     "output_type": "stream",
     "text": [
      "encoder_input_data (182813, 19, 65)\n",
      "decoder_input_data (182813, 31, 62)\n",
      "decoder_target_data (182813, 31, 62)\n"
     ]
    }
   ],
   "source": [
    "encoder_input_data = np.zeros(\n",
    "(len(in_hs), max_encoder_seq_length, num_encoder_tokens), dtype='float32'\n",
    ")\n",
    "\n",
    "decoder_input_data = np.zeros(\n",
    "(len(in_hs), max_decoder_seq_length, num_decoder_tokens), dtype='float32'\n",
    ")\n",
    "\n",
    "decoder_target_data = np.zeros(\n",
    "(len(in_hs), max_decoder_seq_length, num_decoder_tokens), dtype='float32'\n",
    ")\n",
    "\n",
    "print(\"encoder_input_data\",encoder_input_data.shape)\n",
    "print(\"decoder_input_data\",decoder_input_data.shape)\n",
    "print(\"decoder_target_data\",decoder_target_data.shape)"
   ]
  },
  {
   "cell_type": "code",
   "execution_count": 19,
   "id": "d4579560",
   "metadata": {},
   "outputs": [
    {
     "name": "stdout",
     "output_type": "stream",
     "text": [
      "(146250, 19, 65) (36563, 19, 65) (146250, 31, 62) (36563, 31, 62)\n"
     ]
    }
   ],
   "source": [
    "X_train, X_test, y_train, y_test = train_test_split(encoder_input_data, decoder_input_data, test_size = 0.2)\n",
    "print(X_train.shape, X_test.shape, y_train.shape, y_test.shape)"
   ]
  },
  {
   "cell_type": "code",
   "execution_count": 24,
   "id": "c3569d74",
   "metadata": {},
   "outputs": [],
   "source": [
    "for i in range(len(in_hs)):\n",
    "    for t, char in enumerate(in_hs[i]):\n",
    "        encoder_input_data[i, t, input_token_index[char]] = 1\n",
    "    for t, char in enumerate(out_en[i]):\n",
    "        decoder_input_data[i, t, target_token_index[char]] = 1\n",
    "        if t > 0:\n",
    "            # decoder_target_data is ahead of decoder_input_data by one timestep\n",
    "            # and will not include the start character\n",
    "            decoder_target_data[i, t - 1, target_token_index[char]] = 1\n",
    "            \n",
    "# for i in range(len(X_train)):\n",
    "#     for t, char in enumerate(X_train[i]):\n",
    "#         encoder_input_data[i, t, input_token_index[char]] = 1\n",
    "#     for t, char in enumerate(y_train[i]):\n",
    "#         decoder_input_data[i, t, target_token_index[char]] = 1\n",
    "#         if t > 0:\n",
    "#             # decoder_target_data is ahead of decoder_input_data by one timestep\n",
    "#             # and will not include the start character\n",
    "#             decoder_target_data[i, t - 1, target_token_index[char]] = 1"
   ]
  },
  {
   "cell_type": "markdown",
   "id": "ddaf8ef7",
   "metadata": {},
   "source": [
    "## Build the model\n",
    "\n",
    "Create the encoder-decoder model. The encoder reads the input sequence and the decoder predicts the output sequence (1 character per output)\n",
    "* **loss function: categorical crossentropy**\n",
    "* **optimizer: rmsprop** (preferred for NLP tasks)\n",
    "\n",
    "**Input of the encoder:** sequence of characters as one-hot vectors with num_encoder_tokens (the length of the input characters)"
   ]
  },
  {
   "cell_type": "code",
   "execution_count": 25,
   "id": "2e1463fd",
   "metadata": {},
   "outputs": [],
   "source": [
    "# Encoder model\n",
    "encoder_inputs = keras.Input(shape=(None, num_encoder_tokens))\n",
    "encoder = keras.layers.LSTM(latent_dim, return_state=True)\n",
    "encoder_outputs, state_h, state_c = encoder(encoder_inputs)\n",
    "\n",
    "# Discard encoder_outputs and only keep the states\n",
    "encoder_states = [state_h, state_c]"
   ]
  },
  {
   "cell_type": "code",
   "execution_count": 26,
   "id": "348a344b",
   "metadata": {},
   "outputs": [],
   "source": [
    "#Decoder model\n",
    "# encoder_states are used as initial state\n",
    "decoder_inputs = keras.Input(shape=(None, num_decoder_tokens))\n",
    "\n",
    "# Set up the decoder to return full output sequences, \n",
    "# and to return internal states as well\n",
    "decoder_lstm = keras.layers.LSTM(latent_dim, return_sequences=True, return_state=True)\n",
    "decoder_outputs, _, _ = decoder_lstm(decoder_inputs, initial_state=encoder_states)\n",
    "decoder_dense = keras.layers.Dense(num_decoder_tokens, activation=\"softmax\")\n",
    "decoder_outputs = decoder_dense(decoder_outputs)"
   ]
  },
  {
   "cell_type": "code",
   "execution_count": 27,
   "id": "200649ce",
   "metadata": {},
   "outputs": [
    {
     "data": {
      "image/png": "[encoded data removed]",
      "text/plain": [
       "<IPython.core.display.Image object>"
      ]
     },
     "execution_count": 27,
     "metadata": {},
     "output_type": "execute_result"
    }
   ],
   "source": [
    "#model that turns encoder_input_data and decoder_input_data into decoder_target_data\n",
    "model = Model([encoder_inputs, decoder_inputs], decoder_outputs)\n",
    "plot_model(model, to_file='model.png', show_shapes=True, show_layer_names=True)"
   ]
  },
  {
   "cell_type": "markdown",
   "id": "d538862d",
   "metadata": {},
   "source": [
    "## Train the model"
   ]
  },
  {
   "cell_type": "markdown",
   "id": "481710f2",
   "metadata": {},
   "source": [
    "During each epoch, when the model is being trained, it's going to be predicting on the validation set . Loss and accuracy on training and validation set. \n",
    "<p> the model is taking what it has learned from training and trying to generalize and make a prediction on data that it has not seen before in the validation set = how well the model generalizes"
   ]
  },
  {
   "cell_type": "code",
   "execution_count": 28,
   "id": "cccaed30",
   "metadata": {},
   "outputs": [
    {
     "name": "stdout",
     "output_type": "stream",
     "text": [
      "Epoch 1/5\n",
      "2571/2571 [==============================] - 441s 170ms/step - loss: 0.3735 - accuracy: 0.3965 - val_loss: 0.1825 - val_accuracy: 0.4596\n",
      "Epoch 2/5\n",
      "2571/2571 [==============================] - 495s 193ms/step - loss: 0.1460 - accuracy: 0.4666 - val_loss: 0.1184 - val_accuracy: 0.4721\n",
      "Epoch 3/5\n",
      "2571/2571 [==============================] - 431s 167ms/step - loss: 0.1098 - accuracy: 0.4732 - val_loss: 0.0949 - val_accuracy: 0.4768\n",
      "Epoch 4/5\n",
      "2571/2571 [==============================] - 439s 171ms/step - loss: 0.0839 - accuracy: 0.4779 - val_loss: 0.0756 - val_accuracy: 0.4796\n",
      "Epoch 5/5\n",
      "2571/2571 [==============================] - 451s 175ms/step - loss: 0.0721 - accuracy: 0.4796 - val_loss: 0.0693 - val_accuracy: 0.4806\n"
     ]
    },
    {
     "name": "stderr",
     "output_type": "stream",
     "text": [
      "WARNING:absl:Found untraced functions such as lstm_cell_layer_call_fn, lstm_cell_layer_call_and_return_conditional_losses, lstm_cell_1_layer_call_fn, lstm_cell_1_layer_call_and_return_conditional_losses, lstm_cell_layer_call_fn while saving (showing 5 of 10). These functions will not be directly callable after loading.\n"
     ]
    },
    {
     "name": "stdout",
     "output_type": "stream",
     "text": [
      "INFO:tensorflow:Assets written to: seq2seq\\assets\n"
     ]
    },
    {
     "name": "stderr",
     "output_type": "stream",
     "text": [
      "INFO:tensorflow:Assets written to: seq2seq\\assets\n",
      "WARNING:absl:<keras.layers.recurrent.LSTMCell object at 0x000001CA34DA69A0> has the same name 'LSTMCell' as a built-in Keras object. Consider renaming <class 'keras.layers.recurrent.LSTMCell'> to avoid naming conflicts when loading with `tf.keras.models.load_model`. If renaming is not possible, pass the object in the `custom_objects` parameter of the load function.\n",
      "WARNING:absl:<keras.layers.recurrent.LSTMCell object at 0x000001CB128DB730> has the same name 'LSTMCell' as a built-in Keras object. Consider renaming <class 'keras.layers.recurrent.LSTMCell'> to avoid naming conflicts when loading with `tf.keras.models.load_model`. If renaming is not possible, pass the object in the `custom_objects` parameter of the load function.\n"
     ]
    }
   ],
   "source": [
    "model.compile(optimizer='rmsprop', loss='categorical_crossentropy',\n",
    "              metrics=['accuracy'])\n",
    "\n",
    "history=model.fit([encoder_input_data, decoder_input_data], decoder_target_data,\n",
    "          batch_size=batch_size,\n",
    "          epochs=5,\n",
    "          validation_split=0.1,\n",
    "          shuffle=True,\n",
    "          verbose=1)\n",
    "#validation set is split into 10%, \n",
    "#the model is not trained on these 10%\n",
    "\n",
    "model.save(\"seq2seq\") #save the model"
   ]
  },
  {
   "cell_type": "code",
   "execution_count": 29,
   "id": "3625eab2",
   "metadata": {},
   "outputs": [
    {
     "name": "stdout",
     "output_type": "stream",
     "text": [
      "Model: \"model\"\n",
      "__________________________________________________________________________________________________\n",
      " Layer (type)                   Output Shape         Param #     Connected to                     \n",
      "==================================================================================================\n",
      " input_1 (InputLayer)           [(None, None, 65)]   0           []                               \n",
      "                                                                                                  \n",
      " input_2 (InputLayer)           [(None, None, 62)]   0           []                               \n",
      "                                                                                                  \n",
      " lstm (LSTM)                    [(None, 256),        329728      ['input_1[0][0]']                \n",
      "                                 (None, 256),                                                     \n",
      "                                 (None, 256)]                                                     \n",
      "                                                                                                  \n",
      " lstm_1 (LSTM)                  [(None, None, 256),  326656      ['input_2[0][0]',                \n",
      "                                 (None, 256),                     'lstm[0][1]',                   \n",
      "                                 (None, 256)]                     'lstm[0][2]']                   \n",
      "                                                                                                  \n",
      " dense (Dense)                  (None, None, 62)     15934       ['lstm_1[0][0]']                 \n",
      "                                                                                                  \n",
      "==================================================================================================\n",
      "Total params: 672,318\n",
      "Trainable params: 672,318\n",
      "Non-trainable params: 0\n",
      "__________________________________________________________________________________________________\n"
     ]
    }
   ],
   "source": [
    "model.summary()"
   ]
  },
  {
   "cell_type": "code",
   "execution_count": 30,
   "id": "90d1655a",
   "metadata": {},
   "outputs": [
    {
     "data": {
      "image/png": "[encoded data removed]",
      "text/plain": [
       "<Figure size 432x288 with 1 Axes>"
      ]
     },
     "metadata": {
      "needs_background": "light"
     },
     "output_type": "display_data"
    }
   ],
   "source": [
    "pyplot.plot(history.history['loss'], 'g', label='training loss')\n",
    "pyplot.plot(history.history['val_loss'],  'r',label='testing loss')\n",
    "pyplot.xlabel(\"Epoch\")\n",
    "pyplot.ylabel(\"Loss\")\n",
    "pyplot.title(\"Train and Test Loss\")\n",
    "pyplot.legend()\n",
    "pyplot.show()"
   ]
  },
  {
   "cell_type": "code",
   "execution_count": 37,
   "id": "a9c6be66",
   "metadata": {},
   "outputs": [
    {
     "name": "stdout",
     "output_type": "stream",
     "text": [
      "Epoch 1/25\n",
      "2571/2571 [==============================] - 413s 160ms/step - loss: 0.0659 - accuracy: 0.4805 - val_loss: 0.0633 - val_accuracy: 0.4814\n",
      "Epoch 2/25\n",
      "2571/2571 [==============================] - 431s 168ms/step - loss: 0.0595 - accuracy: 0.4816 - val_loss: 0.0580 - val_accuracy: 0.4823\n",
      "Epoch 3/25\n",
      "2571/2571 [==============================] - 441s 171ms/step - loss: 0.0550 - accuracy: 0.4822 - val_loss: 0.0563 - val_accuracy: 0.4821\n",
      "Epoch 4/25\n",
      "2571/2571 [==============================] - 480s 187ms/step - loss: 0.0514 - accuracy: 0.4826 - val_loss: 0.0518 - val_accuracy: 0.4828\n",
      "Epoch 5/25\n",
      "2571/2571 [==============================] - 542s 211ms/step - loss: 0.0470 - accuracy: 0.4830 - val_loss: 0.0482 - val_accuracy: 0.4830\n",
      "Epoch 6/25\n",
      "2571/2571 [==============================] - 533s 207ms/step - loss: 0.0436 - accuracy: 0.4833 - val_loss: 0.0453 - val_accuracy: 0.4831\n",
      "Epoch 7/25\n",
      "2571/2571 [==============================] - 523s 204ms/step - loss: 0.0401 - accuracy: 0.4835 - val_loss: 0.0412 - val_accuracy: 0.4835\n",
      "Epoch 8/25\n",
      "2571/2571 [==============================] - 528s 205ms/step - loss: 0.0379 - accuracy: 0.4838 - val_loss: 0.0402 - val_accuracy: 0.4835\n",
      "Epoch 9/25\n",
      "2571/2571 [==============================] - 520s 202ms/step - loss: 0.0356 - accuracy: 0.4840 - val_loss: 0.0376 - val_accuracy: 0.4840\n",
      "Epoch 10/25\n",
      "2571/2571 [==============================] - 512s 199ms/step - loss: 0.0345 - accuracy: 0.4842 - val_loss: 0.0381 - val_accuracy: 0.4838\n",
      "Epoch 11/25\n",
      "2571/2571 [==============================] - 524s 204ms/step - loss: 0.0339 - accuracy: 0.4843 - val_loss: 0.0369 - val_accuracy: 0.4840\n",
      "Epoch 12/25\n",
      "2571/2571 [==============================] - 509s 198ms/step - loss: 0.0331 - accuracy: 0.4845 - val_loss: 0.0365 - val_accuracy: 0.4840\n",
      "Epoch 13/25\n",
      "2571/2571 [==============================] - 519s 202ms/step - loss: 0.0322 - accuracy: 0.4846 - val_loss: 0.0357 - val_accuracy: 0.4843\n",
      "Epoch 14/25\n",
      "2571/2571 [==============================] - 522s 203ms/step - loss: 0.0315 - accuracy: 0.4847 - val_loss: 0.0354 - val_accuracy: 0.4843\n",
      "Epoch 15/25\n",
      "2571/2571 [==============================] - 518s 201ms/step - loss: 0.0309 - accuracy: 0.4848 - val_loss: 0.0354 - val_accuracy: 0.4841\n",
      "Epoch 16/25\n",
      "2571/2571 [==============================] - 522s 203ms/step - loss: 0.0301 - accuracy: 0.4849 - val_loss: 0.0349 - val_accuracy: 0.4841\n",
      "Epoch 17/25\n",
      "2571/2571 [==============================] - 505s 197ms/step - loss: 0.0293 - accuracy: 0.4850 - val_loss: 0.0335 - val_accuracy: 0.4844\n",
      "Epoch 18/25\n",
      "2571/2571 [==============================] - 497s 193ms/step - loss: 0.0289 - accuracy: 0.4851 - val_loss: 0.0326 - val_accuracy: 0.4846\n",
      "Epoch 19/25\n",
      "2571/2571 [==============================] - 431s 168ms/step - loss: 0.0285 - accuracy: 0.4852 - val_loss: 0.0329 - val_accuracy: 0.4845\n",
      "Epoch 20/25\n",
      "2571/2571 [==============================] - 388s 151ms/step - loss: 0.0280 - accuracy: 0.4852 - val_loss: 0.0324 - val_accuracy: 0.4846\n",
      "Epoch 21/25\n",
      "2571/2571 [==============================] - 466s 181ms/step - loss: 0.0280 - accuracy: 0.4852 - val_loss: 0.0324 - val_accuracy: 0.4845\n",
      "Epoch 22/25\n",
      "2571/2571 [==============================] - 480s 187ms/step - loss: 0.0273 - accuracy: 0.4853 - val_loss: 0.0326 - val_accuracy: 0.4846\n",
      "Epoch 23/25\n",
      "2571/2571 [==============================] - 402s 157ms/step - loss: 0.0268 - accuracy: 0.4854 - val_loss: 0.0319 - val_accuracy: 0.4845\n",
      "Epoch 24/25\n",
      "2571/2571 [==============================] - 479s 186ms/step - loss: 0.0266 - accuracy: 0.4854 - val_loss: 0.0313 - val_accuracy: 0.4847\n",
      "Epoch 25/25\n",
      "2571/2571 [==============================] - 459s 179ms/step - loss: 0.0260 - accuracy: 0.4855 - val_loss: 0.0312 - val_accuracy: 0.4847\n"
     ]
    },
    {
     "name": "stderr",
     "output_type": "stream",
     "text": [
      "WARNING:absl:Found untraced functions such as lstm_cell_4_layer_call_fn, lstm_cell_4_layer_call_and_return_conditional_losses, lstm_cell_5_layer_call_fn, lstm_cell_5_layer_call_and_return_conditional_losses, lstm_cell_4_layer_call_fn while saving (showing 5 of 10). These functions will not be directly callable after loading.\n"
     ]
    },
    {
     "name": "stdout",
     "output_type": "stream",
     "text": [
      "INFO:tensorflow:Assets written to: s2s\\assets\n"
     ]
    },
    {
     "name": "stderr",
     "output_type": "stream",
     "text": [
      "INFO:tensorflow:Assets written to: s2s\\assets\n",
      "WARNING:absl:<keras.layers.recurrent.LSTMCell object at 0x000001CB146147F0> has the same name 'LSTMCell' as a built-in Keras object. Consider renaming <class 'keras.layers.recurrent.LSTMCell'> to avoid naming conflicts when loading with `tf.keras.models.load_model`. If renaming is not possible, pass the object in the `custom_objects` parameter of the load function.\n",
      "WARNING:absl:<keras.layers.recurrent.LSTMCell object at 0x000001CB1C9A3CA0> has the same name 'LSTMCell' as a built-in Keras object. Consider renaming <class 'keras.layers.recurrent.LSTMCell'> to avoid naming conflicts when loading with `tf.keras.models.load_model`. If renaming is not possible, pass the object in the `custom_objects` parameter of the load function.\n"
     ]
    }
   ],
   "source": [
    "model.compile(optimizer='rmsprop', loss='categorical_crossentropy',\n",
    "              metrics=['accuracy'])\n",
    "\n",
    "history=model.fit([encoder_input_data, decoder_input_data], decoder_target_data,\n",
    "          batch_size=batch_size,\n",
    "          epochs=25,\n",
    "          validation_split=0.1,\n",
    "          shuffle=True,\n",
    "          verbose=1)\n",
    "#validation set is split into 10%, \n",
    "#the model is not trained on these 10%\n",
    "\n",
    "model.save(\"s2s\") #save the model"
   ]
  },
  {
   "cell_type": "code",
   "execution_count": null,
   "id": "9844e8e7",
   "metadata": {},
   "outputs": [],
   "source": [
    "model.summary()\n",
    "\n",
    "pyplot.plot(history.history['loss'], 'g', label='training loss')\n",
    "pyplot.plot(history.history['val_loss'],  'r',label='testing loss')\n",
    "pyplot.xlabel(\"Epoch\")\n",
    "pyplot.ylabel(\"Loss\")\n",
    "pyplot.title(\"Train and Test Loss\")\n",
    "pyplot.legend()\n",
    "pyplot.show()"
   ]
  },
  {
   "cell_type": "code",
   "execution_count": 36,
   "id": "86c42163",
   "metadata": {},
   "outputs": [
    {
     "ename": "ValueError",
     "evalue": "in user code:\n\n    File \"C:\\Users\\jolll\\anaconda3\\lib\\site-packages\\keras\\engine\\training.py\", line 1621, in predict_function  *\n        return step_function(self, iterator)\n    File \"C:\\Users\\jolll\\anaconda3\\lib\\site-packages\\keras\\engine\\training.py\", line 1611, in step_function  **\n        outputs = model.distribute_strategy.run(run_step, args=(data,))\n    File \"C:\\Users\\jolll\\anaconda3\\lib\\site-packages\\keras\\engine\\training.py\", line 1604, in run_step  **\n        outputs = model.predict_step(data)\n    File \"C:\\Users\\jolll\\anaconda3\\lib\\site-packages\\keras\\engine\\training.py\", line 1572, in predict_step\n        return self(x, training=False)\n    File \"C:\\Users\\jolll\\anaconda3\\lib\\site-packages\\keras\\utils\\traceback_utils.py\", line 67, in error_handler\n        raise e.with_traceback(filtered_tb) from None\n    File \"C:\\Users\\jolll\\anaconda3\\lib\\site-packages\\keras\\engine\\input_spec.py\", line 199, in assert_input_compatibility\n        raise ValueError(f'Layer \"{layer_name}\" expects {len(input_spec)} input(s),'\n\n    ValueError: Layer \"model\" expects 2 input(s), but it received 1 input tensors. Inputs received: [<tf.Tensor 'IteratorGetNext:0' shape=(None, 19, 65) dtype=float32>]\n",
     "output_type": "error",
     "traceback": [
      "\u001b[1;31m---------------------------------------------------------------------------\u001b[0m",
      "\u001b[1;31mValueError\u001b[0m                                Traceback (most recent call last)",
      "\u001b[1;32m<ipython-input-36-c65c8a366d90>\u001b[0m in \u001b[0;36m<module>\u001b[1;34m\u001b[0m\n\u001b[1;32m----> 1\u001b[1;33m \u001b[0my_pred\u001b[0m \u001b[1;33m=\u001b[0m \u001b[0mmodel\u001b[0m\u001b[1;33m.\u001b[0m\u001b[0mpredict\u001b[0m\u001b[1;33m(\u001b[0m\u001b[0mX_test\u001b[0m\u001b[1;33m,\u001b[0m \u001b[0mbatch_size\u001b[0m\u001b[1;33m=\u001b[0m\u001b[0mbatch_size\u001b[0m\u001b[1;33m)\u001b[0m\u001b[1;33m\u001b[0m\u001b[1;33m\u001b[0m\u001b[0m\n\u001b[0m",
      "\u001b[1;32m~\\anaconda3\\lib\\site-packages\\keras\\utils\\traceback_utils.py\u001b[0m in \u001b[0;36merror_handler\u001b[1;34m(*args, **kwargs)\u001b[0m\n\u001b[0;32m     65\u001b[0m     \u001b[1;32mexcept\u001b[0m \u001b[0mException\u001b[0m \u001b[1;32mas\u001b[0m \u001b[0me\u001b[0m\u001b[1;33m:\u001b[0m  \u001b[1;31m# pylint: disable=broad-except\u001b[0m\u001b[1;33m\u001b[0m\u001b[1;33m\u001b[0m\u001b[0m\n\u001b[0;32m     66\u001b[0m       \u001b[0mfiltered_tb\u001b[0m \u001b[1;33m=\u001b[0m \u001b[0m_process_traceback_frames\u001b[0m\u001b[1;33m(\u001b[0m\u001b[0me\u001b[0m\u001b[1;33m.\u001b[0m\u001b[0m__traceback__\u001b[0m\u001b[1;33m)\u001b[0m\u001b[1;33m\u001b[0m\u001b[1;33m\u001b[0m\u001b[0m\n\u001b[1;32m---> 67\u001b[1;33m       \u001b[1;32mraise\u001b[0m \u001b[0me\u001b[0m\u001b[1;33m.\u001b[0m\u001b[0mwith_traceback\u001b[0m\u001b[1;33m(\u001b[0m\u001b[0mfiltered_tb\u001b[0m\u001b[1;33m)\u001b[0m \u001b[1;32mfrom\u001b[0m \u001b[1;32mNone\u001b[0m\u001b[1;33m\u001b[0m\u001b[1;33m\u001b[0m\u001b[0m\n\u001b[0m\u001b[0;32m     68\u001b[0m     \u001b[1;32mfinally\u001b[0m\u001b[1;33m:\u001b[0m\u001b[1;33m\u001b[0m\u001b[1;33m\u001b[0m\u001b[0m\n\u001b[0;32m     69\u001b[0m       \u001b[1;32mdel\u001b[0m \u001b[0mfiltered_tb\u001b[0m\u001b[1;33m\u001b[0m\u001b[1;33m\u001b[0m\u001b[0m\n",
      "\u001b[1;32m~\\anaconda3\\lib\\site-packages\\tensorflow\\python\\framework\\func_graph.py\u001b[0m in \u001b[0;36mautograph_handler\u001b[1;34m(*args, **kwargs)\u001b[0m\n\u001b[0;32m   1127\u001b[0m           \u001b[1;32mexcept\u001b[0m \u001b[0mException\u001b[0m \u001b[1;32mas\u001b[0m \u001b[0me\u001b[0m\u001b[1;33m:\u001b[0m  \u001b[1;31m# pylint:disable=broad-except\u001b[0m\u001b[1;33m\u001b[0m\u001b[1;33m\u001b[0m\u001b[0m\n\u001b[0;32m   1128\u001b[0m             \u001b[1;32mif\u001b[0m \u001b[0mhasattr\u001b[0m\u001b[1;33m(\u001b[0m\u001b[0me\u001b[0m\u001b[1;33m,\u001b[0m \u001b[1;34m\"ag_error_metadata\"\u001b[0m\u001b[1;33m)\u001b[0m\u001b[1;33m:\u001b[0m\u001b[1;33m\u001b[0m\u001b[1;33m\u001b[0m\u001b[0m\n\u001b[1;32m-> 1129\u001b[1;33m               \u001b[1;32mraise\u001b[0m \u001b[0me\u001b[0m\u001b[1;33m.\u001b[0m\u001b[0mag_error_metadata\u001b[0m\u001b[1;33m.\u001b[0m\u001b[0mto_exception\u001b[0m\u001b[1;33m(\u001b[0m\u001b[0me\u001b[0m\u001b[1;33m)\u001b[0m\u001b[1;33m\u001b[0m\u001b[1;33m\u001b[0m\u001b[0m\n\u001b[0m\u001b[0;32m   1130\u001b[0m             \u001b[1;32melse\u001b[0m\u001b[1;33m:\u001b[0m\u001b[1;33m\u001b[0m\u001b[1;33m\u001b[0m\u001b[0m\n\u001b[0;32m   1131\u001b[0m               \u001b[1;32mraise\u001b[0m\u001b[1;33m\u001b[0m\u001b[1;33m\u001b[0m\u001b[0m\n",
      "\u001b[1;31mValueError\u001b[0m: in user code:\n\n    File \"C:\\Users\\jolll\\anaconda3\\lib\\site-packages\\keras\\engine\\training.py\", line 1621, in predict_function  *\n        return step_function(self, iterator)\n    File \"C:\\Users\\jolll\\anaconda3\\lib\\site-packages\\keras\\engine\\training.py\", line 1611, in step_function  **\n        outputs = model.distribute_strategy.run(run_step, args=(data,))\n    File \"C:\\Users\\jolll\\anaconda3\\lib\\site-packages\\keras\\engine\\training.py\", line 1604, in run_step  **\n        outputs = model.predict_step(data)\n    File \"C:\\Users\\jolll\\anaconda3\\lib\\site-packages\\keras\\engine\\training.py\", line 1572, in predict_step\n        return self(x, training=False)\n    File \"C:\\Users\\jolll\\anaconda3\\lib\\site-packages\\keras\\utils\\traceback_utils.py\", line 67, in error_handler\n        raise e.with_traceback(filtered_tb) from None\n    File \"C:\\Users\\jolll\\anaconda3\\lib\\site-packages\\keras\\engine\\input_spec.py\", line 199, in assert_input_compatibility\n        raise ValueError(f'Layer \"{layer_name}\" expects {len(input_spec)} input(s),'\n\n    ValueError: Layer \"model\" expects 2 input(s), but it received 1 input tensors. Inputs received: [<tf.Tensor 'IteratorGetNext:0' shape=(None, 19, 65) dtype=float32>]\n"
     ]
    }
   ],
   "source": [
    "y_pred = model.predict(X_test, batch_size=batch_size)"
   ]
  },
  {
   "cell_type": "code",
   "execution_count": 32,
   "id": "190e6305",
   "metadata": {},
   "outputs": [
    {
     "ename": "KeyError",
     "evalue": "'<sos>'",
     "output_type": "error",
     "traceback": [
      "\u001b[1;31m---------------------------------------------------------------------------\u001b[0m",
      "\u001b[1;31mKeyError\u001b[0m                                  Traceback (most recent call last)",
      "\u001b[1;32m<ipython-input-32-df69a0a6d0fd>\u001b[0m in \u001b[0;36m<module>\u001b[1;34m\u001b[0m\n\u001b[0;32m     81\u001b[0m     \u001b[1;31m# for trying out decoding.\u001b[0m\u001b[1;33m\u001b[0m\u001b[1;33m\u001b[0m\u001b[1;33m\u001b[0m\u001b[0m\n\u001b[0;32m     82\u001b[0m     \u001b[0minput_seq\u001b[0m \u001b[1;33m=\u001b[0m \u001b[0mencoder_input_data\u001b[0m\u001b[1;33m[\u001b[0m\u001b[0mseq_index\u001b[0m \u001b[1;33m:\u001b[0m \u001b[0mseq_index\u001b[0m \u001b[1;33m+\u001b[0m \u001b[1;36m1\u001b[0m\u001b[1;33m]\u001b[0m\u001b[1;33m\u001b[0m\u001b[1;33m\u001b[0m\u001b[0m\n\u001b[1;32m---> 83\u001b[1;33m     \u001b[0mdecoded_sentence\u001b[0m \u001b[1;33m=\u001b[0m \u001b[0mdecode_sequence\u001b[0m\u001b[1;33m(\u001b[0m\u001b[0minput_seq\u001b[0m\u001b[1;33m)\u001b[0m\u001b[1;33m\u001b[0m\u001b[1;33m\u001b[0m\u001b[0m\n\u001b[0m\u001b[0;32m     84\u001b[0m     \u001b[0mprint\u001b[0m\u001b[1;33m(\u001b[0m\u001b[1;34m\"-\"\u001b[0m\u001b[1;33m)\u001b[0m\u001b[1;33m\u001b[0m\u001b[1;33m\u001b[0m\u001b[0m\n\u001b[0;32m     85\u001b[0m     \u001b[0mprint\u001b[0m\u001b[1;33m(\u001b[0m\u001b[1;34m\"Input sentence:\"\u001b[0m\u001b[1;33m,\u001b[0m \u001b[0minput_texts\u001b[0m\u001b[1;33m[\u001b[0m\u001b[0mseq_index\u001b[0m\u001b[1;33m]\u001b[0m\u001b[1;33m)\u001b[0m\u001b[1;33m\u001b[0m\u001b[1;33m\u001b[0m\u001b[0m\n",
      "\u001b[1;32m<ipython-input-32-df69a0a6d0fd>\u001b[0m in \u001b[0;36mdecode_sequence\u001b[1;34m(input_seq)\u001b[0m\n\u001b[0;32m     45\u001b[0m     \u001b[0mtarget_seq\u001b[0m \u001b[1;33m=\u001b[0m \u001b[0mnp\u001b[0m\u001b[1;33m.\u001b[0m\u001b[0mzeros\u001b[0m\u001b[1;33m(\u001b[0m\u001b[1;33m(\u001b[0m\u001b[1;36m1\u001b[0m\u001b[1;33m,\u001b[0m \u001b[1;36m1\u001b[0m\u001b[1;33m,\u001b[0m \u001b[0mnum_decoder_tokens\u001b[0m\u001b[1;33m)\u001b[0m\u001b[1;33m)\u001b[0m\u001b[1;33m\u001b[0m\u001b[1;33m\u001b[0m\u001b[0m\n\u001b[0;32m     46\u001b[0m     \u001b[1;31m# Populate the first character of target sequence with the start character.\u001b[0m\u001b[1;33m\u001b[0m\u001b[1;33m\u001b[0m\u001b[1;33m\u001b[0m\u001b[0m\n\u001b[1;32m---> 47\u001b[1;33m     \u001b[0mtarget_seq\u001b[0m\u001b[1;33m[\u001b[0m\u001b[1;36m0\u001b[0m\u001b[1;33m,\u001b[0m \u001b[1;36m0\u001b[0m\u001b[1;33m,\u001b[0m \u001b[0mtarget_token_index\u001b[0m\u001b[1;33m[\u001b[0m\u001b[1;34m\"<sos>\"\u001b[0m\u001b[1;33m]\u001b[0m\u001b[1;33m]\u001b[0m \u001b[1;33m=\u001b[0m \u001b[1;36m1.0\u001b[0m\u001b[1;33m\u001b[0m\u001b[1;33m\u001b[0m\u001b[0m\n\u001b[0m\u001b[0;32m     48\u001b[0m \u001b[1;33m\u001b[0m\u001b[0m\n\u001b[0;32m     49\u001b[0m     \u001b[1;31m# Sampling loop for a batch of sequences\u001b[0m\u001b[1;33m\u001b[0m\u001b[1;33m\u001b[0m\u001b[1;33m\u001b[0m\u001b[0m\n",
      "\u001b[1;31mKeyError\u001b[0m: '<sos>'"
     ]
    }
   ],
   "source": [
    "\"\"\"\n",
    "## Run inference (sampling)\n",
    "1. encode input and retrieve initial decoder state\n",
    "2. run one step of decoder with this initial state\n",
    "and a \"start of sequence\" token as target.\n",
    "Output will be the next target token.\n",
    "3. Repeat with the current target token and current states\n",
    "\"\"\"\n",
    "\n",
    "# Define sampling models\n",
    "# Restore the model and construct the encoder and decoder.\n",
    "model = keras.models.load_model(\"seq2seq\")\n",
    "\n",
    "encoder_inputs = model.input[0]  # input_1\n",
    "encoder_outputs, state_h_enc, state_c_enc = model.layers[2].output  # lstm_1\n",
    "encoder_states = [state_h_enc, state_c_enc]\n",
    "encoder_model = keras.Model(encoder_inputs, encoder_states)\n",
    "\n",
    "decoder_inputs = model.input[1]  # input_2\n",
    "decoder_state_input_h = keras.Input(shape=(latent_dim,))\n",
    "decoder_state_input_c = keras.Input(shape=(latent_dim,))\n",
    "decoder_states_inputs = [decoder_state_input_h, decoder_state_input_c]\n",
    "decoder_lstm = model.layers[3]\n",
    "decoder_outputs, state_h_dec, state_c_dec = decoder_lstm(\n",
    "    decoder_inputs, initial_state=decoder_states_inputs\n",
    ")\n",
    "decoder_states = [state_h_dec, state_c_dec]\n",
    "decoder_dense = model.layers[4]\n",
    "decoder_outputs = decoder_dense(decoder_outputs)\n",
    "decoder_model = keras.Model(\n",
    "    [decoder_inputs] + decoder_states_inputs, [decoder_outputs] + decoder_states\n",
    ")\n",
    "\n",
    "# Reverse-lookup token index to decode sequences back to\n",
    "# something readable.\n",
    "reverse_input_char_index = dict((i, char) for char, i in input_token_index.items())\n",
    "reverse_target_char_index = dict((i, char) for char, i in target_token_index.items())\n",
    "\n",
    "\n",
    "def decode_sequence(input_seq):\n",
    "    # Encode the input as state vectors.\n",
    "    states_value = encoder_model.predict(input_seq)\n",
    "\n",
    "    # Generate empty target sequence of length 1.\n",
    "    target_seq = np.zeros((1, 1, num_decoder_tokens))\n",
    "    # Populate the first character of target sequence with the start character.\n",
    "    target_seq[0, 0, target_token_index[\"<sos>\"]] = 1.0\n",
    "\n",
    "    # Sampling loop for a batch of sequences\n",
    "    # (to simplify, here we assume a batch of size 1).\n",
    "    stop_condition = False\n",
    "    decoded_sentence = \"\"\n",
    "    while not stop_condition:\n",
    "        output_tokens, h, c = decoder_model.predict([target_seq] + states_value)\n",
    "\n",
    "        # Sample a token\n",
    "        sampled_token_index = np.argmax(output_tokens[0, -1, :])\n",
    "        sampled_char = reverse_target_char_index[sampled_token_index]\n",
    "        decoded_sentence += sampled_char\n",
    "\n",
    "        # Exit condition: either hit max length\n",
    "        # or find stop character.\n",
    "        if sampled_char == \"<eos>\" or len(decoded_sentence) > max_decoder_seq_length:\n",
    "            stop_condition = True\n",
    "\n",
    "        # Update the target sequence (of length 1).\n",
    "        target_seq = np.zeros((1, 1, num_decoder_tokens))\n",
    "        target_seq[0, 0, sampled_token_index] = 1.0\n",
    "\n",
    "        # Update states\n",
    "        states_value = [h, c]\n",
    "    return decoded_sentence\n",
    "\n",
    "\n",
    "\"\"\"\n",
    "You can now generate decoded sentences as such:\n",
    "\"\"\"\n",
    "\n",
    "for seq_index in range(20):\n",
    "    # Take one sequence (part of the training set)\n",
    "    # for trying out decoding.\n",
    "    input_seq = encoder_input_data[seq_index : seq_index + 1]\n",
    "    decoded_sentence = decode_sequence(input_seq)\n",
    "    print(\"-\")\n",
    "    print(\"Input sentence:\", input_texts[seq_index])\n",
    "    print(\"Decoded sentence:\", decoded_sentence)\n"
   ]
  },
  {
   "cell_type": "markdown",
   "id": "3b850ff5",
   "metadata": {},
   "source": [
    "## Test the model --> making predictions\n",
    "Testing with input_test from ICAMET corpus and ARCHER corpus (first century 1600-1700) to see how well the model performs"
   ]
  },
  {
   "cell_type": "markdown",
   "id": "d504a190",
   "metadata": {},
   "source": [
    "**evaluation metrics** \n",
    "<p> accuracy: compare with the number of words that don't need to be changed  </p>\n",
    "<p> precision and recall -> for words that the algorithm changed something / gold standard cases </p>\n",
    "\n",
    "https://github.com/coastalcph/histnorm/blob/master/scripts/evaluate.py  "
   ]
  },
  {
   "cell_type": "markdown",
   "id": "a489a409",
   "metadata": {},
   "source": [
    "evaluate the model on test data via evaluate()"
   ]
  },
  {
   "cell_type": "code",
   "execution_count": 63,
   "id": "fbb19aa2",
   "metadata": {},
   "outputs": [],
   "source": [
    "#test set\n",
    "\n",
    "with open(test_hs, encoding='utf8') as hs_raw_test:\n",
    "    input_test = hs_raw_test.read().strip().split('\\n')\n",
    "    input_test = [x for x in input_test if x] #get rid of empty strings in list\n",
    "\n",
    "with open(test_en, encoding='utf8') as en_raw_test:\n",
    "    target_test = en_raw_test.read().strip().split('\\n')\n",
    "    target_test = [x for x in target_test if x]\n",
    "    output_test = ['<sos> ' + item +' <eos>' for item in target_test] #start of string token\n",
    "\n",
    "#apply same preprocessing\n",
    "\n",
    "punct_in_test = clean_data(input_test)\n",
    "punct_out_test = clean_data(output_test)\n",
    "in_test = [punct_in_test[i].lower() for i in range(len(punct_in_test))]\n",
    "out_test = [punct_out_test[i].lower() for i in range(len(punct_out_test))]"
   ]
  },
  {
   "cell_type": "code",
   "execution_count": 56,
   "id": "6003a326",
   "metadata": {},
   "outputs": [],
   "source": [
    "# print(\"evaluate on test data\")\n",
    "# results= model.evaluate()\n",
    "# print(\"test loss, test acc:\", results)"
   ]
  },
  {
   "cell_type": "code",
   "execution_count": 66,
   "id": "ccbe84ef",
   "metadata": {},
   "outputs": [
    {
     "name": "stdout",
     "output_type": "stream",
     "text": [
      "evaluate on test data\n"
     ]
    },
    {
     "ename": "ValueError",
     "evalue": "in user code:\n\n    File \"C:\\Users\\danyc\\anaconda3\\lib\\site-packages\\keras\\engine\\training.py\", line 1525, in test_function  *\n        return step_function(self, iterator)\n    File \"C:\\Users\\danyc\\anaconda3\\lib\\site-packages\\keras\\engine\\training.py\", line 1514, in step_function  **\n        outputs = model.distribute_strategy.run(run_step, args=(data,))\n    File \"C:\\Users\\danyc\\anaconda3\\lib\\site-packages\\keras\\engine\\training.py\", line 1507, in run_step  **\n        outputs = model.test_step(data)\n    File \"C:\\Users\\danyc\\anaconda3\\lib\\site-packages\\keras\\engine\\training.py\", line 1471, in test_step\n        y_pred = self(x, training=False)\n    File \"C:\\Users\\danyc\\anaconda3\\lib\\site-packages\\keras\\utils\\traceback_utils.py\", line 67, in error_handler\n        raise e.with_traceback(filtered_tb) from None\n    File \"C:\\Users\\danyc\\anaconda3\\lib\\site-packages\\keras\\engine\\input_spec.py\", line 200, in assert_input_compatibility\n        raise ValueError(f'Layer \"{layer_name}\" expects {len(input_spec)} input(s),'\n\n    ValueError: Layer \"model_3\" expects 2 input(s), but it received 1 input tensors. Inputs received: [<tf.Tensor 'IteratorGetNext:0' shape=(None,) dtype=string>]\n",
     "output_type": "error",
     "traceback": [
      "\u001b[1;31m---------------------------------------------------------------------------\u001b[0m",
      "\u001b[1;31mValueError\u001b[0m                                Traceback (most recent call last)",
      "\u001b[1;32m~\\AppData\\Local\\Temp/ipykernel_36504/3598781207.py\u001b[0m in \u001b[0;36m<module>\u001b[1;34m\u001b[0m\n\u001b[0;32m      2\u001b[0m \u001b[0mprint\u001b[0m\u001b[1;33m(\u001b[0m\u001b[1;34m\"evaluate on test data\"\u001b[0m\u001b[1;33m)\u001b[0m\u001b[1;33m\u001b[0m\u001b[1;33m\u001b[0m\u001b[0m\n\u001b[0;32m      3\u001b[0m \u001b[1;31m#test accuracy\u001b[0m\u001b[1;33m\u001b[0m\u001b[1;33m\u001b[0m\u001b[0m\n\u001b[1;32m----> 4\u001b[1;33m \u001b[0mscore\u001b[0m \u001b[1;33m=\u001b[0m \u001b[0mmodel\u001b[0m\u001b[1;33m.\u001b[0m\u001b[0mevaluate\u001b[0m\u001b[1;33m(\u001b[0m\u001b[0min_test\u001b[0m\u001b[1;33m,\u001b[0m \u001b[0mout_test\u001b[0m\u001b[1;33m,\u001b[0m \u001b[0mverbose\u001b[0m\u001b[1;33m=\u001b[0m\u001b[1;36m1\u001b[0m\u001b[1;33m)\u001b[0m\u001b[1;33m\u001b[0m\u001b[1;33m\u001b[0m\u001b[0m\n\u001b[0m\u001b[0;32m      5\u001b[0m \u001b[0mprint\u001b[0m\u001b[1;33m(\u001b[0m\u001b[1;34mf'Test loss: {score[0]} / Test accuracy: {score[1]}'\u001b[0m\u001b[1;33m)\u001b[0m\u001b[1;33m\u001b[0m\u001b[1;33m\u001b[0m\u001b[0m\n",
      "\u001b[1;32m~\\anaconda3\\lib\\site-packages\\keras\\utils\\traceback_utils.py\u001b[0m in \u001b[0;36merror_handler\u001b[1;34m(*args, **kwargs)\u001b[0m\n\u001b[0;32m     65\u001b[0m     \u001b[1;32mexcept\u001b[0m \u001b[0mException\u001b[0m \u001b[1;32mas\u001b[0m \u001b[0me\u001b[0m\u001b[1;33m:\u001b[0m  \u001b[1;31m# pylint: disable=broad-except\u001b[0m\u001b[1;33m\u001b[0m\u001b[1;33m\u001b[0m\u001b[0m\n\u001b[0;32m     66\u001b[0m       \u001b[0mfiltered_tb\u001b[0m \u001b[1;33m=\u001b[0m \u001b[0m_process_traceback_frames\u001b[0m\u001b[1;33m(\u001b[0m\u001b[0me\u001b[0m\u001b[1;33m.\u001b[0m\u001b[0m__traceback__\u001b[0m\u001b[1;33m)\u001b[0m\u001b[1;33m\u001b[0m\u001b[1;33m\u001b[0m\u001b[0m\n\u001b[1;32m---> 67\u001b[1;33m       \u001b[1;32mraise\u001b[0m \u001b[0me\u001b[0m\u001b[1;33m.\u001b[0m\u001b[0mwith_traceback\u001b[0m\u001b[1;33m(\u001b[0m\u001b[0mfiltered_tb\u001b[0m\u001b[1;33m)\u001b[0m \u001b[1;32mfrom\u001b[0m \u001b[1;32mNone\u001b[0m\u001b[1;33m\u001b[0m\u001b[1;33m\u001b[0m\u001b[0m\n\u001b[0m\u001b[0;32m     68\u001b[0m     \u001b[1;32mfinally\u001b[0m\u001b[1;33m:\u001b[0m\u001b[1;33m\u001b[0m\u001b[1;33m\u001b[0m\u001b[0m\n\u001b[0;32m     69\u001b[0m       \u001b[1;32mdel\u001b[0m \u001b[0mfiltered_tb\u001b[0m\u001b[1;33m\u001b[0m\u001b[1;33m\u001b[0m\u001b[0m\n",
      "\u001b[1;32m~\\anaconda3\\lib\\site-packages\\tensorflow\\python\\framework\\func_graph.py\u001b[0m in \u001b[0;36mautograph_handler\u001b[1;34m(*args, **kwargs)\u001b[0m\n\u001b[0;32m   1145\u001b[0m           \u001b[1;32mexcept\u001b[0m \u001b[0mException\u001b[0m \u001b[1;32mas\u001b[0m \u001b[0me\u001b[0m\u001b[1;33m:\u001b[0m  \u001b[1;31m# pylint:disable=broad-except\u001b[0m\u001b[1;33m\u001b[0m\u001b[1;33m\u001b[0m\u001b[0m\n\u001b[0;32m   1146\u001b[0m             \u001b[1;32mif\u001b[0m \u001b[0mhasattr\u001b[0m\u001b[1;33m(\u001b[0m\u001b[0me\u001b[0m\u001b[1;33m,\u001b[0m \u001b[1;34m\"ag_error_metadata\"\u001b[0m\u001b[1;33m)\u001b[0m\u001b[1;33m:\u001b[0m\u001b[1;33m\u001b[0m\u001b[1;33m\u001b[0m\u001b[0m\n\u001b[1;32m-> 1147\u001b[1;33m               \u001b[1;32mraise\u001b[0m \u001b[0me\u001b[0m\u001b[1;33m.\u001b[0m\u001b[0mag_error_metadata\u001b[0m\u001b[1;33m.\u001b[0m\u001b[0mto_exception\u001b[0m\u001b[1;33m(\u001b[0m\u001b[0me\u001b[0m\u001b[1;33m)\u001b[0m\u001b[1;33m\u001b[0m\u001b[1;33m\u001b[0m\u001b[0m\n\u001b[0m\u001b[0;32m   1148\u001b[0m             \u001b[1;32melse\u001b[0m\u001b[1;33m:\u001b[0m\u001b[1;33m\u001b[0m\u001b[1;33m\u001b[0m\u001b[0m\n\u001b[0;32m   1149\u001b[0m               \u001b[1;32mraise\u001b[0m\u001b[1;33m\u001b[0m\u001b[1;33m\u001b[0m\u001b[0m\n",
      "\u001b[1;31mValueError\u001b[0m: in user code:\n\n    File \"C:\\Users\\danyc\\anaconda3\\lib\\site-packages\\keras\\engine\\training.py\", line 1525, in test_function  *\n        return step_function(self, iterator)\n    File \"C:\\Users\\danyc\\anaconda3\\lib\\site-packages\\keras\\engine\\training.py\", line 1514, in step_function  **\n        outputs = model.distribute_strategy.run(run_step, args=(data,))\n    File \"C:\\Users\\danyc\\anaconda3\\lib\\site-packages\\keras\\engine\\training.py\", line 1507, in run_step  **\n        outputs = model.test_step(data)\n    File \"C:\\Users\\danyc\\anaconda3\\lib\\site-packages\\keras\\engine\\training.py\", line 1471, in test_step\n        y_pred = self(x, training=False)\n    File \"C:\\Users\\danyc\\anaconda3\\lib\\site-packages\\keras\\utils\\traceback_utils.py\", line 67, in error_handler\n        raise e.with_traceback(filtered_tb) from None\n    File \"C:\\Users\\danyc\\anaconda3\\lib\\site-packages\\keras\\engine\\input_spec.py\", line 200, in assert_input_compatibility\n        raise ValueError(f'Layer \"{layer_name}\" expects {len(input_spec)} input(s),'\n\n    ValueError: Layer \"model_3\" expects 2 input(s), but it received 1 input tensors. Inputs received: [<tf.Tensor 'IteratorGetNext:0' shape=(None,) dtype=string>]\n"
     ]
    }
   ],
   "source": [
    "#verbose: shows a progress bar\n",
    "print(\"evaluate on test data\")\n",
    "#test accuracy\n",
    "score = model.evaluate(in_test, out_test, verbose=1)\n",
    "print(f'Test loss: {score[0]} / Test accuracy: {score[1]}')"
   ]
  },
  {
   "cell_type": "markdown",
   "id": "492b16a3",
   "metadata": {},
   "source": [
    "## Generate predictions"
   ]
  }
 ],
 "metadata": {
  "kernelspec": {
   "display_name": "Python 3",
   "language": "python",
   "name": "python3"
  },
  "language_info": {
   "codemirror_mode": {
    "name": "ipython",
    "version": 3
   },
   "file_extension": ".py",
   "mimetype": "text/x-python",
   "name": "python",
   "nbconvert_exporter": "python",
   "pygments_lexer": "ipython3",
   "version": "3.8.8"
  }
 },
 "nbformat": 4,
 "nbformat_minor": 5
}
